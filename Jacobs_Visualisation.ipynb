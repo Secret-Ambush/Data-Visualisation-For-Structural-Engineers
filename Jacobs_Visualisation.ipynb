{
  "metadata": {
    "kernelspec": {
      "language": "python",
      "display_name": "Python 3",
      "name": "python3"
    },
    "language_info": {
      "pygments_lexer": "ipython3",
      "nbconvert_exporter": "python",
      "version": "3.6.4",
      "file_extension": ".py",
      "codemirror_mode": {
        "name": "ipython",
        "version": 3
      },
      "name": "python",
      "mimetype": "text/x-python"
    },
    "kaggle": {
      "accelerator": "none",
      "dataSources": [
        {
          "sourceId": 1925,
          "sourceType": "datasetVersion",
          "datasetId": 1067
        }
      ],
      "dockerImageVersionId": 29661,
      "isInternetEnabled": false,
      "language": "python",
      "sourceType": "notebook",
      "isGpuEnabled": false
    },
    "colab": {
      "provenance": [],
      "collapsed_sections": [
        "eSXFTPFkD28S",
        "Tacqga-eD28U",
        "HZlVOjNPGGLu"
      ],
      "include_colab_link": true
    }
  },
  "nbformat_minor": 0,
  "nbformat": 4,
  "cells": [
    {
      "cell_type": "markdown",
      "metadata": {
        "id": "view-in-github",
        "colab_type": "text"
      },
      "source": [
        "<a href=\"https://colab.research.google.com/github/Secret-Ambush/Data-Visualisation-For-Structural-Engineers/blob/main/Jacobs_Visualisation.ipynb\" target=\"_parent\"><img src=\"https://colab.research.google.com/assets/colab-badge.svg\" alt=\"Open In Colab\"/></a>"
      ]
    },
    {
      "cell_type": "markdown",
      "source": [
        "## Importing Libraries"
      ],
      "metadata": {
        "id": "eSXFTPFkD28S"
      }
    },
    {
      "cell_type": "code",
      "source": [
        "import numpy as np\n",
        "import pandas as pd\n",
        "import matplotlib.pyplot as plt\n",
        "import seaborn as sns"
      ],
      "metadata": {
        "trusted": true,
        "id": "ZpqW-pXOD28T"
      },
      "execution_count": null,
      "outputs": []
    },
    {
      "cell_type": "code",
      "source": [
        "data=pd.read_csv(\"../input/ibm-hr-analytics-attrition-dataset/WA_Fn-UseC_-HR-Employee-Attrition.csv\")"
      ],
      "metadata": {
        "trusted": true,
        "id": "lXr6iSntD28U"
      },
      "execution_count": null,
      "outputs": []
    },
    {
      "cell_type": "markdown",
      "source": [
        "### Print first 10 datapoints"
      ],
      "metadata": {
        "id": "RK5xfqr9D28U"
      }
    },
    {
      "cell_type": "code",
      "source": [
        "data.head(10)"
      ],
      "metadata": {
        "trusted": true,
        "id": "hGyi9MPZD28U"
      },
      "execution_count": null,
      "outputs": []
    },
    {
      "cell_type": "markdown",
      "source": [
        "### Getting information about the dataset"
      ],
      "metadata": {
        "id": "bVqQ1LloD28U"
      }
    },
    {
      "cell_type": "code",
      "source": [
        "data.info()"
      ],
      "metadata": {
        "trusted": true,
        "id": "vR4e9G6uD28U"
      },
      "execution_count": null,
      "outputs": []
    },
    {
      "cell_type": "markdown",
      "source": [
        "### Describe the dataset"
      ],
      "metadata": {
        "id": "qAa31r3aD28U"
      }
    },
    {
      "cell_type": "code",
      "source": [
        "data.describe()"
      ],
      "metadata": {
        "trusted": true,
        "id": "ubYV-19SD28U"
      },
      "execution_count": null,
      "outputs": []
    },
    {
      "cell_type": "markdown",
      "source": [
        "## Plot a correlation map for all numeric variables"
      ],
      "metadata": {
        "id": "Tacqga-eD28U"
      }
    },
    {
      "cell_type": "code",
      "source": [
        "f,ax = plt.subplots(figsize=(20, 20))\n",
        "sns.heatmap(data.corr(), annot=True, linewidths=.5, fmt= '.1f',ax=ax)"
      ],
      "metadata": {
        "trusted": true,
        "id": "jnWXjdMdD28U"
      },
      "execution_count": null,
      "outputs": []
    },
    {
      "cell_type": "code",
      "source": [
        "sns.countplot(data['OverTime'])\n",
        "fig = plt.gcf()\n",
        "fig.set_size_inches(10,10)\n",
        "plt.title('OverTime')"
      ],
      "metadata": {
        "trusted": true,
        "id": "8wjuwq_TD28U"
      },
      "execution_count": null,
      "outputs": []
    },
    {
      "cell_type": "code",
      "source": [
        "sns.countplot(data['MaritalStatus'])\n",
        "fig = plt.gcf()\n",
        "fig.set_size_inches(10,10)\n",
        "plt.title('Marital Status')"
      ],
      "metadata": {
        "trusted": true,
        "id": "OsZ4WWEzD28U"
      },
      "execution_count": null,
      "outputs": []
    },
    {
      "cell_type": "code",
      "source": [
        "sns.countplot(data['JobRole'])\n",
        "fig = plt.gcf()\n",
        "fig.set_size_inches(20,14)\n",
        "plt.title('Job Role')"
      ],
      "metadata": {
        "trusted": true,
        "id": "GuKP0jBsD28U"
      },
      "execution_count": null,
      "outputs": []
    },
    {
      "cell_type": "code",
      "source": [
        "sns.countplot(data['Gender'])\n",
        "fig = plt.gcf()\n",
        "fig.set_size_inches(10,10)\n",
        "plt.title('Gender')"
      ],
      "metadata": {
        "trusted": true,
        "id": "BLxCFU0hD28V"
      },
      "execution_count": null,
      "outputs": []
    },
    {
      "cell_type": "code",
      "source": [
        "sns.countplot(data['EducationField'])\n",
        "fig = plt.gcf()\n",
        "fig.set_size_inches(10,10)\n",
        "plt.title('Education Field')"
      ],
      "metadata": {
        "trusted": true,
        "id": "8PPzIHaKD28V"
      },
      "execution_count": null,
      "outputs": []
    },
    {
      "cell_type": "code",
      "source": [
        "sns.countplot(data['Department'])\n",
        "fig = plt.gcf()\n",
        "fig.set_size_inches(10,10)\n",
        "plt.title('eEpartment')"
      ],
      "metadata": {
        "trusted": true,
        "id": "d9S7_WbpD28V"
      },
      "execution_count": null,
      "outputs": []
    },
    {
      "cell_type": "code",
      "source": [
        "sns.countplot(data['BusinessTravel'])\n",
        "fig = plt.gcf()\n",
        "fig.set_size_inches(10,10)\n",
        "plt.title('Business travel')"
      ],
      "metadata": {
        "trusted": true,
        "id": "y2NdmijRD28V"
      },
      "execution_count": null,
      "outputs": []
    },
    {
      "cell_type": "code",
      "source": [
        "sns.catplot(x=\"OverTime\", y=\"Age\", kind=\"swarm\", data=data);"
      ],
      "metadata": {
        "trusted": true,
        "id": "kUG3vA9kD28V"
      },
      "execution_count": null,
      "outputs": []
    },
    {
      "cell_type": "code",
      "source": [
        "plt.subplots(figsize=(15,5))\n",
        "sns.countplot(data.TotalWorkingYears)"
      ],
      "metadata": {
        "trusted": true,
        "id": "0PZTs2e7D28V"
      },
      "execution_count": null,
      "outputs": []
    },
    {
      "cell_type": "code",
      "source": [
        "plt.subplots(figsize=(15,5))\n",
        "sns.countplot(data.Education)"
      ],
      "metadata": {
        "trusted": true,
        "id": "Vx-2ChQBD28V"
      },
      "execution_count": null,
      "outputs": []
    },
    {
      "cell_type": "code",
      "source": [
        "sns.countplot(data.NumCompaniesWorked)"
      ],
      "metadata": {
        "trusted": true,
        "id": "4il8BEdvD28V"
      },
      "execution_count": null,
      "outputs": []
    },
    {
      "cell_type": "code",
      "source": [
        "plt.subplots(figsize=(18,5))\n",
        "sns.countplot(data.DistanceFromHome)"
      ],
      "metadata": {
        "trusted": true,
        "id": "RSDrpSwMD28V"
      },
      "execution_count": null,
      "outputs": []
    },
    {
      "cell_type": "code",
      "source": [
        "import time\n",
        "import math\n",
        "import seaborn as sns\n",
        "import pandas as pd\n",
        "import numpy as np\n",
        "import scipy as sci\n",
        "import plotly.offline as py\n",
        "import plotly.graph_objs as go\n",
        "py.init_notebook_mode(connected=True)\n",
        "\n",
        "from lightgbm import LGBMClassifier\n",
        "from xgboost import XGBClassifier\n",
        "from catboost import CatBoostClassifier\n",
        "from hyperopt import hp, tpe, Trials, STATUS_OK\n",
        "from hyperopt import fmin\n",
        "\n",
        "from sklearn.metrics import roc_auc_score, accuracy_score\n",
        "from sklearn.model_selection import train_test_split\n",
        "\n",
        "from matplotlib import pyplot as plt\n",
        "plt.style.use('fivethirtyeight')\n",
        "%matplotlib inline"
      ],
      "metadata": {
        "trusted": true,
        "id": "FuV4YvEND28V"
      },
      "execution_count": null,
      "outputs": []
    },
    {
      "cell_type": "code",
      "source": [
        "ibm_df = data\n",
        "description = pd.DataFrame(index=['observations(rows)', 'percent missing', 'dtype', 'range'])\n",
        "numerical = []\n",
        "categorical = []\n",
        "for col in ibm_df.columns:\n",
        "    obs = ibm_df[col].size\n",
        "    p_nan = round(ibm_df[col].isna().sum()/obs, 2)\n",
        "    num_nan = f'{p_nan}% ({ibm_df[col].isna().sum()}/{obs})'\n",
        "    dtype = 'categorical' if ibm_df[col].dtype == object else 'numerical'\n",
        "    numerical.append(col) if dtype == 'numerical' else categorical.append(col)\n",
        "    rng = f'{len(ibm_df[col].unique())} labels' if dtype == 'categorical' else f'{ibm_df[col].min()}-{ibm_df[col].max()}'\n",
        "    description[col] = [obs, num_nan, dtype, rng]\n",
        "\n",
        "numerical.remove('EmployeeCount')\n",
        "numerical.remove('StandardHours')\n",
        "pd.set_option('display.max_columns', 100)\n",
        "display(description)\n",
        "display(ibm_df.head())"
      ],
      "metadata": {
        "trusted": true,
        "id": "GiOTTPr8D28W"
      },
      "execution_count": null,
      "outputs": []
    },
    {
      "cell_type": "code",
      "source": [
        "def org_results(trials, hyperparams, model_name):\n",
        "    fit_idx = -1\n",
        "    for idx, fit  in enumerate(trials):\n",
        "        hyp = fit['misc']['vals']\n",
        "        xgb_hyp = {key:[val] for key, val in hyperparams.items()}\n",
        "        if hyp == xgb_hyp:\n",
        "            fit_idx = idx\n",
        "            break\n",
        "\n",
        "    train_time = str(trials[-1]['refresh_time'] - trials[0]['book_time'])\n",
        "    acc = round(trials[fit_idx]['result']['accuracy'], 3)\n",
        "    train_auc = round(trials[fit_idx]['result']['train auc'], 3)\n",
        "    test_auc = round(trials[fit_idx]['result']['test auc'], 3)\n",
        "\n",
        "    results = {\n",
        "        'model': model_name,\n",
        "        'parameter search time': train_time,\n",
        "        'accuracy': acc,\n",
        "        'test auc score': test_auc,\n",
        "        'training auc score': train_auc,\n",
        "        'parameters': hyperparams\n",
        "    }\n",
        "    return results"
      ],
      "metadata": {
        "trusted": true,
        "id": "vN560PQSD28W"
      },
      "execution_count": null,
      "outputs": []
    },
    {
      "cell_type": "code",
      "source": [
        "lgb_data = ibm_df.copy()\n",
        "lgb_dummy = pd.get_dummies(lgb_data[categorical], drop_first=True)\n",
        "lgb_data = pd.concat([lgb_dummy, lgb_data], axis=1)\n",
        "lgb_data.drop(columns = categorical, inplace=True)\n",
        "lgb_data.rename(columns={'Attrition_Yes': 'Attrition'}, inplace=True)\n",
        "\n",
        "y_df = lgb_data['Attrition'].reset_index(drop=True)\n",
        "x_df = lgb_data.drop(columns='Attrition')\n",
        "train_x, test_x, train_y, test_y = train_test_split(x_df, y_df, test_size=0.20)\n",
        "\n",
        "def lgb_objective(space, early_stopping_rounds=50):\n",
        "\n",
        "    lgbm = LGBMClassifier(\n",
        "        learning_rate = space['learning_rate'],\n",
        "        n_estimators= int(space['n_estimators']),\n",
        "        max_depth = int(space['max_depth']),\n",
        "        num_leaves = int(space['num_leaves']),\n",
        "        colsample_bytree = space['colsample_bytree'],\n",
        "        feature_fraction = space['feature_fraction'],\n",
        "        reg_lambda = space['reg_lambda'],\n",
        "        reg_alpha = space['reg_alpha'],\n",
        "        min_split_gain = space['min_split_gain']\n",
        "    )\n",
        "\n",
        "    lgbm.fit(train_x, train_y,\n",
        "            eval_set = [(train_x, train_y), (test_x, test_y)],\n",
        "            early_stopping_rounds = early_stopping_rounds,\n",
        "            eval_metric = 'auc',\n",
        "            verbose = False)\n",
        "\n",
        "    predictions = lgbm.predict(test_x)\n",
        "    test_preds = lgbm.predict_proba(test_x)[:,1]\n",
        "    train_preds = lgbm.predict_proba(train_x)[:,1]\n",
        "\n",
        "    train_auc = roc_auc_score(train_y, train_preds)\n",
        "    test_auc = roc_auc_score(test_y, test_preds)\n",
        "    accuracy = accuracy_score(test_y, predictions)\n",
        "\n",
        "    return {'status': STATUS_OK, 'loss': 1-test_auc, 'accuracy': accuracy,\n",
        "            'test auc': test_auc, 'train auc': train_auc\n",
        "           }\n",
        "\n",
        "trials = Trials()\n",
        "space = {\n",
        "    'learning_rate': hp.loguniform('learning_rate', np.log(0.001), np.log(0.3)),\n",
        "    'n_estimators': hp.quniform('n_estimators', 50, 1200, 25),\n",
        "    'max_depth': hp.quniform('max_depth', 1, 15, 1),\n",
        "    'num_leaves': hp.quniform('num_leaves', 10, 150, 1),\n",
        "    'colsample_bytree': hp.uniform('colsample_bytree', 0.3, 1.0),\n",
        "    'feature_fraction': hp.uniform('feature_fraction', .3, 1.0),\n",
        "    'reg_lambda': hp.uniform('reg_lambda', 0.0, 1.0),\n",
        "    'reg_alpha': hp.uniform('reg_alpha', 0.0, 1.0),\n",
        "    'min_split_gain': hp.uniform('min_split_gain', 0.0001, 0.1)\n",
        "}\n",
        "\n",
        "lgb_hyperparams = fmin(fn = lgb_objective,\n",
        "                 max_evals = 150,\n",
        "                 trials = trials,\n",
        "                 algo = tpe.suggest,\n",
        "                 space = space\n",
        "                 )\n",
        "\n",
        "lgb_results = org_results(trials.trials, lgb_hyperparams, 'LightGBM')\n",
        "display(lgb_results)"
      ],
      "metadata": {
        "trusted": true,
        "id": "hqpSzoHfD28W"
      },
      "execution_count": null,
      "outputs": []
    },
    {
      "cell_type": "code",
      "source": [
        "age=pd.DataFrame(data.groupby(\"Age\")[[\"MonthlyIncome\",\"Education\",\"JobLevel\",\"JobInvolvement\",\"PerformanceRating\",\"JobSatisfaction\",\"EnvironmentSatisfaction\",\"RelationshipSatisfaction\",\"WorkLifeBalance\",\"DailyRate\",\"MonthlyRate\"]].mean())\n",
        "age[\"Count\"]=data.Age.value_counts(dropna=False)\n",
        "age.reset_index(level=0, inplace=True)\n",
        "age.head()"
      ],
      "metadata": {
        "trusted": true,
        "id": "xaTHqj8xD28W"
      },
      "execution_count": null,
      "outputs": []
    },
    {
      "cell_type": "code",
      "source": [
        "plt.figure(figsize=(15,10))\n",
        "ax=sns.barplot(x=age.Age,y=age.Count)\n",
        "plt.xticks(rotation=180)\n",
        "plt.xlabel(\"Age\")\n",
        "plt.ylabel(\"Counts\")\n",
        "plt.title(\"Age Counts\")\n",
        "plt.show()"
      ],
      "metadata": {
        "trusted": true,
        "id": "ud7bpa1SD28W"
      },
      "execution_count": null,
      "outputs": []
    },
    {
      "cell_type": "code",
      "source": [
        "plt.figure(figsize=(15,10))\n",
        "ax=sns.barplot(x=age.Age,y=age.MonthlyIncome,palette = sns.cubehelix_palette(len(age.index)))\n",
        "plt.xticks(rotation=180)\n",
        "plt.xlabel(\"Age\")\n",
        "plt.ylabel(\"Monthly Income\")\n",
        "plt.title(\"Monthly Income According to Age\")\n",
        "plt.show()"
      ],
      "metadata": {
        "trusted": true,
        "id": "f8ssgl_ID28W"
      },
      "execution_count": null,
      "outputs": []
    },
    {
      "cell_type": "code",
      "source": [
        "income=pd.DataFrame(data.groupby(\"JobRole\").MonthlyIncome.mean().sort_values(ascending=False))"
      ],
      "metadata": {
        "trusted": true,
        "id": "Yf727ILQD28W"
      },
      "execution_count": null,
      "outputs": []
    },
    {
      "cell_type": "code",
      "source": [
        "plt.figure(figsize=(15,10))\n",
        "ax=sns.barplot(x=income.index,y=income.MonthlyIncome)\n",
        "plt.xticks(rotation=90)\n",
        "plt.xlabel(\"Job Roles\")\n",
        "plt.ylabel(\"Monthly Income\")\n",
        "plt.title(\"Job Roles with Monthly Income\")\n",
        "plt.show()"
      ],
      "metadata": {
        "trusted": true,
        "id": "RFOZFpcTD28W"
      },
      "execution_count": null,
      "outputs": []
    },
    {
      "cell_type": "code",
      "source": [
        "jobrole=pd.DataFrame(data.groupby(\"JobRole\")[\"PercentSalaryHike\",\"YearsAtCompany\",\"TotalWorkingYears\",\"YearsInCurrentRole\",\"WorkLifeBalance\"].mean())\n",
        "jobrole"
      ],
      "metadata": {
        "trusted": true,
        "id": "87raAudPD28W"
      },
      "execution_count": null,
      "outputs": []
    },
    {
      "cell_type": "code",
      "source": [
        "labels=data.EducationField.value_counts().index\n",
        "colors=[\"cyan\",\"orange\",\"hotpink\",\"green\",\"navy\",\"#9b59b6\"]\n",
        "#explode=[0,0,0,0,0,0]\n",
        "sizes=data.EducationField.value_counts().values\n",
        "plt.figure(figsize=(7,7))\n",
        "plt.pie(sizes,labels=labels,colors=colors,autopct=\"%1.1f%%\")\n",
        "plt.title(\"Education Field Counts\",color=\"saddlebrown\",fontsize=15)"
      ],
      "metadata": {
        "trusted": true,
        "id": "940yqnWjD28W"
      },
      "execution_count": null,
      "outputs": []
    },
    {
      "cell_type": "markdown",
      "source": [
        "# Animated Visualisation"
      ],
      "metadata": {
        "id": "HZlVOjNPGGLu"
      }
    },
    {
      "cell_type": "code",
      "source": [
        "import pandas as pd\n",
        "import bar_chart_race as bcr\n",
        "from matplotlib import rcParams\n",
        "import random\n",
        "\n",
        "rcParams['font.sans-serif'] = ['Source Han Sans TW', 'sans-serif']\n",
        "\n",
        "df = pd.read_csv('GlobalLandTemperaturesByCountry.csv')\n",
        "\n",
        "df = pd.pivot(df, index='dt', columns='Country', values='AverageTemperature')\n",
        "\n",
        "df.fillna(method='ffill', axis=0, inplace=True)\n",
        "\n",
        "# get idx of the year 2000\n",
        "# get number of months between our dates\n",
        "# we need to add 2 months since our data starts from 1973-11\n",
        "total_month_difference: int = ((2000-1744) * 12) + 2\n",
        "\n",
        "filtered_df: pd.DataFrame = df.copy().iloc[total_month_difference:]  # get all rows from 2000 onwards\n",
        "\n",
        "filtered_df.dropna(axis=1, how='all', inplace=True)\n",
        "\n",
        "available_countries: list[str] = filtered_df.columns.tolist()\n",
        "\n",
        "# inplace shuffle of the countries\n",
        "random.shuffle(available_countries)\n",
        "\n",
        "random_20_countries: list[str] = available_countries[:20]\n",
        "\n",
        "bcr.bar_chart_race(\n",
        "    df=filtered_df[random_20_countries],\n",
        "    filename='bcr_land_temp.mp4',\n",
        "    figsize=(5, 3),\n",
        "    dpi=144,\n",
        "    title='Global Land Temperatures By Country')"
      ],
      "metadata": {
        "id": "BQZS96PGGITP"
      },
      "execution_count": null,
      "outputs": []
    }
  ]
}